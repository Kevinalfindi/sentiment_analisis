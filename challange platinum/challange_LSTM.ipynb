{
  "cells": [
    {
      "cell_type": "code",
      "execution_count": 35,
      "metadata": {
        "id": "VFzMUIBkrt1y"
      },
      "outputs": [
        {
          "name": "stderr",
          "output_type": "stream",
          "text": [
            "C:\\Users\\LENOVO\\AppData\\Local\\Temp\\ipykernel_12668\\4237232154.py:6: FutureWarning: The frame.append method is deprecated and will be removed from pandas in a future version. Use pandas.concat instead.\n",
            "  df = df_train.append(df_valid, ignore_index=True)\n"
          ]
        }
      ],
      "source": [
        "import pandas as pd\n",
        "\n",
        "df_train = pd.read_csv('data challange/train_preprocess.tsv.txt',sep='\\t',names=[\"Teks\", \"Target\"])\n",
        "df_valid = pd.read_csv('data challange/valid.csv',sep='\\t',names=[\"Teks\", \"Target\"])\n",
        "\n",
        "df = df_train.append(df_valid, ignore_index=True)"
      ]
    },
    {
      "cell_type": "code",
      "execution_count": 36,
      "metadata": {
        "id": "hHxMxsS6tMPj"
      },
      "outputs": [
        {
          "name": "stderr",
          "output_type": "stream",
          "text": [
            "C:\\Users\\LENOVO\\AppData\\Local\\Temp\\ipykernel_12668\\599489437.py:3: FutureWarning: The frame.append method is deprecated and will be removed from pandas in a future version. Use pandas.concat instead.\n",
            "  df = df.append(df_test, ignore_index=True)\n"
          ]
        }
      ],
      "source": [
        "df_test = pd.read_csv('data challange/test.csv',sep='\\t',names=[\"Teks\", \"Target\"])\n",
        "\n",
        "df = df.append(df_test, ignore_index=True)"
      ]
    },
    {
      "cell_type": "code",
      "execution_count": 37,
      "metadata": {
        "colab": {
          "base_uri": "https://localhost:8080/",
          "height": 206
        },
        "id": "MvZfoC97tSfM",
        "outputId": "431b00ff-5cec-45b3-9764-653d08af3dfd"
      },
      "outputs": [
        {
          "data": {
            "text/html": [
              "<div>\n",
              "<style scoped>\n",
              "    .dataframe tbody tr th:only-of-type {\n",
              "        vertical-align: middle;\n",
              "    }\n",
              "\n",
              "    .dataframe tbody tr th {\n",
              "        vertical-align: top;\n",
              "    }\n",
              "\n",
              "    .dataframe thead th {\n",
              "        text-align: right;\n",
              "    }\n",
              "</style>\n",
              "<table border=\"1\" class=\"dataframe\">\n",
              "  <thead>\n",
              "    <tr style=\"text-align: right;\">\n",
              "      <th></th>\n",
              "      <th>Teks</th>\n",
              "      <th>Target</th>\n",
              "    </tr>\n",
              "  </thead>\n",
              "  <tbody>\n",
              "    <tr>\n",
              "      <th>0</th>\n",
              "      <td>warung ini dimiliki oleh pengusaha pabrik tahu...</td>\n",
              "      <td>positive</td>\n",
              "    </tr>\n",
              "    <tr>\n",
              "      <th>1</th>\n",
              "      <td>mohon ulama lurus dan k212 mmbri hujjah partai...</td>\n",
              "      <td>neutral</td>\n",
              "    </tr>\n",
              "    <tr>\n",
              "      <th>2</th>\n",
              "      <td>lokasi strategis di jalan sumatera bandung . t...</td>\n",
              "      <td>positive</td>\n",
              "    </tr>\n",
              "    <tr>\n",
              "      <th>3</th>\n",
              "      <td>betapa bahagia nya diri ini saat unboxing pake...</td>\n",
              "      <td>positive</td>\n",
              "    </tr>\n",
              "    <tr>\n",
              "      <th>4</th>\n",
              "      <td>duh . jadi mahasiswa jangan sombong dong . kas...</td>\n",
              "      <td>negative</td>\n",
              "    </tr>\n",
              "  </tbody>\n",
              "</table>\n",
              "</div>"
            ],
            "text/plain": [
              "                                                Teks    Target\n",
              "0  warung ini dimiliki oleh pengusaha pabrik tahu...  positive\n",
              "1  mohon ulama lurus dan k212 mmbri hujjah partai...   neutral\n",
              "2  lokasi strategis di jalan sumatera bandung . t...  positive\n",
              "3  betapa bahagia nya diri ini saat unboxing pake...  positive\n",
              "4  duh . jadi mahasiswa jangan sombong dong . kas...  negative"
            ]
          },
          "execution_count": 37,
          "metadata": {},
          "output_type": "execute_result"
        }
      ],
      "source": [
        "df.head()"
      ]
    },
    {
      "cell_type": "code",
      "execution_count": 38,
      "metadata": {
        "colab": {
          "base_uri": "https://localhost:8080/"
        },
        "id": "PxX2SvJ6tYa_",
        "outputId": "9634f403-0881-4290-fb77-9ef5a7fa8851"
      },
      "outputs": [
        {
          "data": {
            "text/plain": [
              "positive    6416\n",
              "negative    3436\n",
              "neutral     1148\n",
              "Name: Target, dtype: int64"
            ]
          },
          "execution_count": 38,
          "metadata": {},
          "output_type": "execute_result"
        }
      ],
      "source": [
        "df['Target'].value_counts()"
      ]
    },
    {
      "cell_type": "code",
      "execution_count": 39,
      "metadata": {
        "colab": {
          "base_uri": "https://localhost:8080/"
        },
        "id": "39tEn_bjuVoo",
        "outputId": "101c5ea7-4e91-4b6a-d8e9-3067a42737f5"
      },
      "outputs": [
        {
          "data": {
            "text/plain": [
              "Teks        0\n",
              "Target    502\n",
              "dtype: int64"
            ]
          },
          "execution_count": 39,
          "metadata": {},
          "output_type": "execute_result"
        }
      ],
      "source": [
        "df.isnull().sum()"
      ]
    },
    {
      "cell_type": "code",
      "execution_count": 40,
      "metadata": {
        "id": "B_1Qu5e2usfV"
      },
      "outputs": [],
      "source": [
        "df=df.dropna()"
      ]
    },
    {
      "cell_type": "code",
      "execution_count": 41,
      "metadata": {
        "colab": {
          "base_uri": "https://localhost:8080/"
        },
        "id": "RrUFhemBuvVF",
        "outputId": "b3325fc3-1ceb-4666-c8ba-0e22a630507d"
      },
      "outputs": [
        {
          "data": {
            "text/plain": [
              "Teks      0\n",
              "Target    0\n",
              "dtype: int64"
            ]
          },
          "execution_count": 41,
          "metadata": {},
          "output_type": "execute_result"
        }
      ],
      "source": [
        "df.isnull().sum()"
      ]
    },
    {
      "cell_type": "code",
      "execution_count": 42,
      "metadata": {
        "colab": {
          "base_uri": "https://localhost:8080/",
          "height": 330
        },
        "id": "s0uoiLVOuwbx",
        "outputId": "ccf3a4fc-216d-46b5-bf30-4a7d02d33ce1"
      },
      "outputs": [
        {
          "data": {
            "text/plain": [
              "<AxesSubplot:xlabel='Target'>"
            ]
          },
          "execution_count": 42,
          "metadata": {},
          "output_type": "execute_result"
        },
        {
          "data": {
            "image/png": "[encoded data removed]",
            "text/plain": [
              "<Figure size 432x288 with 1 Axes>"
            ]
          },
          "metadata": {
            "needs_background": "light"
          },
          "output_type": "display_data"
        }
      ],
      "source": [
        "import matplotlib.pyplot as plt\n",
        "df.groupby('Target').size().plot(kind='bar')"
      ]
    },
    {
      "cell_type": "markdown",
      "metadata": {
        "id": "Zw0msfpNu_NX"
      },
      "source": [
        "# **Text Normalization/Cleansing**"
      ]
    },
    {
      "cell_type": "code",
      "execution_count": 43,
      "metadata": {
        "id": "7eHjWyO2uzo9"
      },
      "outputs": [],
      "source": [
        "import re \n",
        "\n",
        "def cleansing(sent):\n",
        "    # Mengubah kata menjadi huruf kecil semua dengan menggunakan fungsi lower()\n",
        "    string = sent.lower()\n",
        "    # Menghapus emoticon dan tanda baca menggunakan \"RegEx\" dengan script di bawah\n",
        "    string = re.sub(r'[^a-zA-Z0-9]', ' ', string)\n",
        "    return string\n",
        "\n",
        "def lowercase(string):\n",
        "    return string.lower() \n",
        "\n",
        "def remove_unnecessary_char(string):\n",
        "    string = re.sub('\\n',' ',string) # Remove every '\\n'\n",
        "    string = re.sub('rt',' ',string) # Remove every retweet symbol\n",
        "    string = re.sub('user',' ',string) # Remove every username\n",
        "    string = re.sub('((www\\.[^\\s]+)|(https?://[^\\s]+)|(http?://[^\\s]+))',' ',string) # Remove every URL\n",
        "    string = re.sub('  +', ' ', string) # Remove extra spaces\n",
        "    string = re.sub(r'pic.twitter.com.[\\w]+', '', string) # Remove every pic \n",
        "    string = re.sub('gue','saya',string) # replace gue - saya\n",
        "    string = re.sub(r':', '', string) #Remove symbol \n",
        "    string = re.sub(r'‚Ä¶', '', string) #Remove symbol Ä¶\n",
        "    return string   "
      ]
    },
    {
      "cell_type": "code",
      "execution_count": 44,
      "metadata": {
        "id": "-aDhLaS6vIF_"
      },
      "outputs": [],
      "source": [
        "df['Teks_clean'] = df.Teks.apply(cleansing)"
      ]
    },
    {
      "cell_type": "code",
      "execution_count": 45,
      "metadata": {
        "colab": {
          "base_uri": "https://localhost:8080/",
          "height": 206
        },
        "id": "btcDRH_gvJsy",
        "outputId": "45e2a890-bd3c-4e53-8c83-c204624b1890"
      },
      "outputs": [
        {
          "data": {
            "text/html": [
              "<div>\n",
              "<style scoped>\n",
              "    .dataframe tbody tr th:only-of-type {\n",
              "        vertical-align: middle;\n",
              "    }\n",
              "\n",
              "    .dataframe tbody tr th {\n",
              "        vertical-align: top;\n",
              "    }\n",
              "\n",
              "    .dataframe thead th {\n",
              "        text-align: right;\n",
              "    }\n",
              "</style>\n",
              "<table border=\"1\" class=\"dataframe\">\n",
              "  <thead>\n",
              "    <tr style=\"text-align: right;\">\n",
              "      <th></th>\n",
              "      <th>Teks</th>\n",
              "      <th>Target</th>\n",
              "      <th>Teks_clean</th>\n",
              "    </tr>\n",
              "  </thead>\n",
              "  <tbody>\n",
              "    <tr>\n",
              "      <th>0</th>\n",
              "      <td>warung ini dimiliki oleh pengusaha pabrik tahu...</td>\n",
              "      <td>positive</td>\n",
              "      <td>warung ini dimiliki oleh pengusaha pabrik tahu...</td>\n",
              "    </tr>\n",
              "    <tr>\n",
              "      <th>1</th>\n",
              "      <td>mohon ulama lurus dan k212 mmbri hujjah partai...</td>\n",
              "      <td>neutral</td>\n",
              "      <td>mohon ulama lurus dan k212 mmbri hujjah partai...</td>\n",
              "    </tr>\n",
              "    <tr>\n",
              "      <th>2</th>\n",
              "      <td>lokasi strategis di jalan sumatera bandung . t...</td>\n",
              "      <td>positive</td>\n",
              "      <td>lokasi strategis di jalan sumatera bandung   t...</td>\n",
              "    </tr>\n",
              "    <tr>\n",
              "      <th>3</th>\n",
              "      <td>betapa bahagia nya diri ini saat unboxing pake...</td>\n",
              "      <td>positive</td>\n",
              "      <td>betapa bahagia nya diri ini saat unboxing pake...</td>\n",
              "    </tr>\n",
              "    <tr>\n",
              "      <th>4</th>\n",
              "      <td>duh . jadi mahasiswa jangan sombong dong . kas...</td>\n",
              "      <td>negative</td>\n",
              "      <td>duh   jadi mahasiswa jangan sombong dong   kas...</td>\n",
              "    </tr>\n",
              "  </tbody>\n",
              "</table>\n",
              "</div>"
            ],
            "text/plain": [
              "                                                Teks    Target  \\\n",
              "0  warung ini dimiliki oleh pengusaha pabrik tahu...  positive   \n",
              "1  mohon ulama lurus dan k212 mmbri hujjah partai...   neutral   \n",
              "2  lokasi strategis di jalan sumatera bandung . t...  positive   \n",
              "3  betapa bahagia nya diri ini saat unboxing pake...  positive   \n",
              "4  duh . jadi mahasiswa jangan sombong dong . kas...  negative   \n",
              "\n",
              "                                          Teks_clean  \n",
              "0  warung ini dimiliki oleh pengusaha pabrik tahu...  \n",
              "1  mohon ulama lurus dan k212 mmbri hujjah partai...  \n",
              "2  lokasi strategis di jalan sumatera bandung   t...  \n",
              "3  betapa bahagia nya diri ini saat unboxing pake...  \n",
              "4  duh   jadi mahasiswa jangan sombong dong   kas...  "
            ]
          },
          "execution_count": 45,
          "metadata": {},
          "output_type": "execute_result"
        }
      ],
      "source": [
        "df.head()"
      ]
    },
    {
      "cell_type": "code",
      "execution_count": 46,
      "metadata": {
        "id": "ahTouZDXvLVq"
      },
      "outputs": [],
      "source": [
        "neg = df.loc[df['Target'] == 'negative'].Teks_clean.tolist()\n",
        "neu = df.loc[df['Target'] == 'neutral'].Teks_clean.tolist()\n",
        "pos = df.loc[df['Target'] == 'positive'].Teks_clean.tolist()\n",
        "\n",
        "neg_label = df.loc[df['Target'] == 'negative'].Target.tolist()\n",
        "neu_label = df.loc[df['Target'] == 'neutral'].Target.tolist()\n",
        "pos_label = df.loc[df['Target'] == 'positive'].Target.tolist()"
      ]
    },
    {
      "cell_type": "code",
      "execution_count": 47,
      "metadata": {
        "colab": {
          "base_uri": "https://localhost:8080/"
        },
        "id": "8xXYH4mSvPAX",
        "outputId": "6fa15f7c-853d-4788-b6f4-07c09fe4ae96"
      },
      "outputs": [
        {
          "name": "stdout",
          "output_type": "stream",
          "text": [
            "Pos: 6416, Neu: 1148, Neg: 3436\n",
            "Total data: 11000\n"
          ]
        }
      ],
      "source": [
        "total_data = pos + neu + neg\n",
        "labels = pos_label + neu_label + neg_label\n",
        "\n",
        "print(\"Pos: %s, Neu: %s, Neg: %s\" % (len(pos), len(neu), len(neg)))\n",
        "print(\"Total data: %s\" % len(total_data))"
      ]
    },
    {
      "cell_type": "markdown",
      "metadata": {
        "id": "HlJRQnsWvlZx"
      },
      "source": [
        "# **Feature Extraction** "
      ]
    },
    {
      "cell_type": "code",
      "execution_count": 48,
      "metadata": {
        "colab": {
          "base_uri": "https://localhost:8080/"
        },
        "id": "Hl8rOwq4vgwO",
        "outputId": "bf870af4-040d-4985-8612-6b62a6491bbf"
      },
      "outputs": [
        {
          "ename": "ModuleNotFoundError",
          "evalue": "No module named 'tensorflow'",
          "output_type": "error",
          "traceback": [
            "\u001b[1;31m---------------------------------------------------------------------------\u001b[0m",
            "\u001b[1;31mModuleNotFoundError\u001b[0m                       Traceback (most recent call last)",
            "\u001b[1;32md:\\challange platinum\\challange_LSTM.ipynb Cell 16\u001b[0m in \u001b[0;36m<cell line: 2>\u001b[1;34m()\u001b[0m\n\u001b[0;32m      <a href='vscode-notebook-cell:/d%3A/challange%20platinum/challange_LSTM.ipynb#X21sZmlsZQ%3D%3D?line=0'>1</a>\u001b[0m \u001b[39mimport\u001b[39;00m \u001b[39mpickle\u001b[39;00m\n\u001b[1;32m----> <a href='vscode-notebook-cell:/d%3A/challange%20platinum/challange_LSTM.ipynb#X21sZmlsZQ%3D%3D?line=1'>2</a>\u001b[0m \u001b[39mfrom\u001b[39;00m \u001b[39mtensorflow\u001b[39;00m\u001b[39m.\u001b[39;00m\u001b[39mkeras\u001b[39;00m\u001b[39m.\u001b[39;00m\u001b[39mpreprocessing\u001b[39;00m\u001b[39m.\u001b[39;00m\u001b[39mtext\u001b[39;00m \u001b[39mimport\u001b[39;00m Tokenizer\n\u001b[0;32m      <a href='vscode-notebook-cell:/d%3A/challange%20platinum/challange_LSTM.ipynb#X21sZmlsZQ%3D%3D?line=2'>3</a>\u001b[0m \u001b[39mfrom\u001b[39;00m \u001b[39mtensorflow\u001b[39;00m\u001b[39m.\u001b[39;00m\u001b[39mkeras\u001b[39;00m\u001b[39m.\u001b[39;00m\u001b[39mpreprocessing\u001b[39;00m\u001b[39m.\u001b[39;00m\u001b[39msequence\u001b[39;00m \u001b[39mimport\u001b[39;00m pad_sequences\n\u001b[0;32m      <a href='vscode-notebook-cell:/d%3A/challange%20platinum/challange_LSTM.ipynb#X21sZmlsZQ%3D%3D?line=3'>4</a>\u001b[0m \u001b[39mfrom\u001b[39;00m \u001b[39mcollections\u001b[39;00m \u001b[39mimport\u001b[39;00m defaultdict\n",
            "\u001b[1;31mModuleNotFoundError\u001b[0m: No module named 'tensorflow'"
          ]
        }
      ],
      "source": [
        "import pickle\n",
        "from tensorflow.keras.preprocessing.text import Tokenizer\n",
        "from tensorflow.keras.preprocessing.sequence import pad_sequences\n",
        "from collections import defaultdict\n",
        "\n",
        "max_features = 100000\n",
        "tokenizer = Tokenizer(num_words=max_features, split=' ', lower=True)\n",
        "tokenizer.fit_on_texts(total_data)\n",
        "with open('tokenizer.pickle', 'wb') as handle:\n",
        "    pickle.dump(tokenizer, handle, protocol=pickle.HIGHEST_PROTOCOL)\n",
        "    print(\"tokenizer.pickle has created!\")\n",
        "\n",
        "X = tokenizer.texts_to_sequences(total_data)\n",
        "\n",
        "vocab_size = len(tokenizer.word_index)\n",
        "maxlen = max(len(x) for x in X)\n",
        "\n",
        "X = pad_sequences(X)\n",
        "with open('x_pad_sequences.pickle', 'wb') as handle:\n",
        "    pickle.dump(X, handle, protocol=pickle.HIGHEST_PROTOCOL)\n",
        "    print(\"x_pad_sequences.pickle has created!\")"
      ]
    },
    {
      "cell_type": "code",
      "execution_count": null,
      "metadata": {
        "colab": {
          "base_uri": "https://localhost:8080/"
        },
        "id": "98ZGtToyvtGH",
        "outputId": "5c308f51-64e4-49a2-ac4a-c6b7abc9d6ad"
      },
      "outputs": [
        {
          "name": "stdout",
          "output_type": "stream",
          "text": [
            "y_labels.pickle has created!\n"
          ]
        }
      ],
      "source": [
        "Y = pd.get_dummies(labels)\n",
        "Y = Y.values\n",
        "\n",
        "with open('y_labels.pickle', 'wb') as handle:\n",
        "    pickle.dump(Y, handle, protocol=pickle.HIGHEST_PROTOCOL)\n",
        "    print(\"y_labels.pickle has created!\")"
      ]
    },
    {
      "cell_type": "markdown",
      "metadata": {
        "id": "1eQc4ZADvzSz"
      },
      "source": [
        "# **Prepare train & test datasets/Splitting Dataset**"
      ]
    },
    {
      "cell_type": "markdown",
      "metadata": {
        "id": "zvDZ1Cx1v2fM"
      },
      "source": [
        "Split dataset menjadi 80% untuk train dan 20% untuk test."
      ]
    },
    {
      "cell_type": "code",
      "execution_count": 49,
      "metadata": {
        "id": "aOd4vgQpvwwG"
      },
      "outputs": [
        {
          "ename": "FileNotFoundError",
          "evalue": "[Errno 2] No such file or directory: 'x_pad_sequences.pickle'",
          "output_type": "error",
          "traceback": [
            "\u001b[1;31m---------------------------------------------------------------------------\u001b[0m",
            "\u001b[1;31mFileNotFoundError\u001b[0m                         Traceback (most recent call last)",
            "\u001b[1;32md:\\challange platinum\\challange_LSTM.ipynb Cell 20\u001b[0m in \u001b[0;36m<cell line: 3>\u001b[1;34m()\u001b[0m\n\u001b[0;32m      <a href='vscode-notebook-cell:/d%3A/challange%20platinum/challange_LSTM.ipynb#X25sZmlsZQ%3D%3D?line=0'>1</a>\u001b[0m \u001b[39mfrom\u001b[39;00m \u001b[39msklearn\u001b[39;00m\u001b[39m.\u001b[39;00m\u001b[39mmodel_selection\u001b[39;00m \u001b[39mimport\u001b[39;00m train_test_split\n\u001b[1;32m----> <a href='vscode-notebook-cell:/d%3A/challange%20platinum/challange_LSTM.ipynb#X25sZmlsZQ%3D%3D?line=2'>3</a>\u001b[0m file \u001b[39m=\u001b[39m \u001b[39mopen\u001b[39;49m(\u001b[39m\"\u001b[39;49m\u001b[39mx_pad_sequences.pickle\u001b[39;49m\u001b[39m\"\u001b[39;49m,\u001b[39m'\u001b[39;49m\u001b[39mrb\u001b[39;49m\u001b[39m'\u001b[39;49m)\n\u001b[0;32m      <a href='vscode-notebook-cell:/d%3A/challange%20platinum/challange_LSTM.ipynb#X25sZmlsZQ%3D%3D?line=3'>4</a>\u001b[0m X \u001b[39m=\u001b[39m pickle\u001b[39m.\u001b[39mload(file)\n\u001b[0;32m      <a href='vscode-notebook-cell:/d%3A/challange%20platinum/challange_LSTM.ipynb#X25sZmlsZQ%3D%3D?line=4'>5</a>\u001b[0m file\u001b[39m.\u001b[39mclose()\n",
            "\u001b[1;31mFileNotFoundError\u001b[0m: [Errno 2] No such file or directory: 'x_pad_sequences.pickle'"
          ]
        }
      ],
      "source": [
        "from sklearn.model_selection import train_test_split\n",
        "\n",
        "file = open(\"x_pad_sequences.pickle\",'rb')\n",
        "X = pickle.load(file)\n",
        "file.close()\n",
        "\n",
        "file = open(\"y_labels.pickle\",'rb')\n",
        "Y = pickle.load(file)\n",
        "file.close()\n",
        "\n",
        "X_train, X_test, y_train, y_test = train_test_split(X, Y, test_size=0.2, random_state=1)"
      ]
    },
    {
      "cell_type": "markdown",
      "metadata": {
        "id": "k_fBF8fPv8oW"
      },
      "source": [
        "# **Training**"
      ]
    },
    {
      "cell_type": "code",
      "execution_count": null,
      "metadata": {
        "id": "_daQL91jv5e6"
      },
      "outputs": [],
      "source": [
        "import numpy as np\n",
        "from tensorflow.keras import layers\n",
        "from tensorflow.keras.models import Sequential\n",
        "from tensorflow.keras.layers import Dense, Embedding, LSTM, SpatialDropout1D, SimpleRNN, Activation\n",
        "from tensorflow.keras import optimizers\n",
        "from tensorflow.keras.callbacks import EarlyStopping, TensorBoard\n",
        "from tensorflow.keras.layers import Flatten\n",
        "from tensorflow.keras import backend as K"
      ]
    },
    {
      "cell_type": "code",
      "execution_count": null,
      "metadata": {
        "colab": {
          "base_uri": "https://localhost:8080/"
        },
        "id": "ZttD03_dwAwo",
        "outputId": "91bc2d46-68f2-458b-8945-6b271e2b4520"
      },
      "outputs": [
        {
          "name": "stdout",
          "output_type": "stream",
          "text": [
            "Model: \"sequential_3\"\n",
            "_________________________________________________________________\n",
            " Layer (type)                Output Shape              Param #   \n",
            "=================================================================\n",
            " embedding_3 (Embedding)     (None, 96, 100)           10000000  \n",
            "                                                                 \n",
            " lstm_3 (LSTM)               (None, 64)                42240     \n",
            "                                                                 \n",
            " dense_3 (Dense)             (None, 3)                 195       \n",
            "                                                                 \n",
            "=================================================================\n",
            "Total params: 10,042,435\n",
            "Trainable params: 10,042,435\n",
            "Non-trainable params: 0\n",
            "_________________________________________________________________\n",
            "None\n",
            "Epoch 1/7\n",
            "880/880 [==============================] - 126s 142ms/step - loss: 0.4558 - accuracy: 0.8155 - val_loss: 0.3261 - val_accuracy: 0.8795\n",
            "Epoch 2/7\n",
            "880/880 [==============================] - 114s 129ms/step - loss: 0.1960 - accuracy: 0.9287 - val_loss: 0.3447 - val_accuracy: 0.8755\n",
            "Epoch 3/7\n",
            "880/880 [==============================] - 115s 131ms/step - loss: 0.1065 - accuracy: 0.9593 - val_loss: 0.4261 - val_accuracy: 0.8495\n",
            "Epoch 4/7\n",
            "880/880 [==============================] - 112s 128ms/step - loss: 0.0626 - accuracy: 0.9749 - val_loss: 0.4784 - val_accuracy: 0.8764\n",
            "Epoch 5/7\n",
            "880/880 [==============================] - 113s 128ms/step - loss: 0.0349 - accuracy: 0.9884 - val_loss: 0.5985 - val_accuracy: 0.8759\n",
            "Epoch 6/7\n",
            "880/880 [==============================] - 114s 130ms/step - loss: 0.0249 - accuracy: 0.9933 - val_loss: 0.5726 - val_accuracy: 0.8745\n",
            "Epoch 7/7\n",
            "880/880 [==============================] - 112s 127ms/step - loss: 0.0148 - accuracy: 0.9966 - val_loss: 0.5677 - val_accuracy: 0.8618\n"
          ]
        }
      ],
      "source": [
        "embed_dim = 100\n",
        "units = 64\n",
        "\n",
        "model = Sequential()\n",
        "model.add(Embedding(max_features, embed_dim, input_length=X.shape[1]))\n",
        "model.add(LSTM(units, dropout=0.2))\n",
        "model.add(Dense(3,activation='softmax'))\n",
        "model.compile(loss = 'binary_crossentropy', optimizer='adam',metrics = ['accuracy'])\n",
        "print(model.summary())\n",
        "\n",
        "adam = optimizers.Adam(lr = 0.001)\n",
        "model.compile(loss = 'categorical_crossentropy', optimizer = adam, metrics = ['accuracy'])\n",
        "\n",
        "history = model.fit(X_train, y_train, epochs=7, batch_size=10, validation_data=(X_test, y_test), verbose=1)"
      ]
    },
    {
      "cell_type": "markdown",
      "metadata": {
        "id": "Y8Qa1VW_1t-r"
      },
      "source": [
        "# **evaluasi**"
      ]
    },
    {
      "cell_type": "code",
      "execution_count": null,
      "metadata": {
        "colab": {
          "base_uri": "https://localhost:8080/"
        },
        "id": "dd0YKnNo1n92",
        "outputId": "5c4c4ca7-5c47-4886-f376-3e367881e4ef"
      },
      "outputs": [
        {
          "name": "stdout",
          "output_type": "stream",
          "text": [
            "69/69 [==============================] - 3s 35ms/step\n",
            "Testing selesai\n",
            "              precision    recall  f1-score   support\n",
            "\n",
            "           0       0.82      0.82      0.82       685\n",
            "           1       0.74      0.76      0.75       233\n",
            "           2       0.91      0.90      0.91      1282\n",
            "\n",
            "    accuracy                           0.86      2200\n",
            "   macro avg       0.82      0.83      0.83      2200\n",
            "weighted avg       0.86      0.86      0.86      2200\n",
            "\n"
          ]
        }
      ],
      "source": [
        "from sklearn import metrics\n",
        "\n",
        "predictions = model.predict(X_test)\n",
        "y_pred = predictions\n",
        "matrix_test = metrics.classification_report(y_test.argmax(axis=1), y_pred.argmax(axis=1))\n",
        "print(\"Testing selesai\")\n",
        "print(matrix_test)"
      ]
    },
    {
      "cell_type": "markdown",
      "metadata": {
        "id": "3NtI1Yol14QO"
      },
      "source": [
        "## **cross validation**"
      ]
    },
    {
      "cell_type": "code",
      "execution_count": null,
      "metadata": {
        "colab": {
          "base_uri": "https://localhost:8080/"
        },
        "id": "ozePl3mA10F4",
        "outputId": "65be7b97-3ca1-40e3-f33c-cf5286292d07"
      },
      "outputs": [
        {
          "name": "stdout",
          "output_type": "stream",
          "text": [
            "69/69 [==============================] - 2s 18ms/step\n",
            "Training ke- 1\n",
            "              precision    recall  f1-score   support\n",
            "\n",
            "           0       0.84      0.84      0.84       685\n",
            "           1       0.79      0.82      0.81       233\n",
            "           2       0.92      0.91      0.92      1282\n",
            "\n",
            "    accuracy                           0.88      2200\n",
            "   macro avg       0.85      0.86      0.85      2200\n",
            "weighted avg       0.88      0.88      0.88      2200\n",
            "\n",
            "======================================================\n"
          ]
        },
        {
          "name": "stderr",
          "output_type": "stream",
          "text": [
            "/usr/local/lib/python3.7/dist-packages/keras/optimizers/optimizer_v2/adam.py:110: UserWarning: The `lr` argument is deprecated, use `learning_rate` instead.\n",
            "  super(Adam, self).__init__(name, **kwargs)\n"
          ]
        },
        {
          "name": "stdout",
          "output_type": "stream",
          "text": [
            "69/69 [==============================] - 3s 27ms/step\n",
            "Training ke- 2\n",
            "              precision    recall  f1-score   support\n",
            "\n",
            "           0       0.87      0.76      0.81       685\n",
            "           1       0.75      0.84      0.79       233\n",
            "           2       0.89      0.93      0.91      1282\n",
            "\n",
            "    accuracy                           0.87      2200\n",
            "   macro avg       0.84      0.84      0.84      2200\n",
            "weighted avg       0.87      0.87      0.87      2200\n",
            "\n",
            "======================================================\n"
          ]
        },
        {
          "name": "stderr",
          "output_type": "stream",
          "text": [
            "/usr/local/lib/python3.7/dist-packages/keras/optimizers/optimizer_v2/adam.py:110: UserWarning: The `lr` argument is deprecated, use `learning_rate` instead.\n",
            "  super(Adam, self).__init__(name, **kwargs)\n"
          ]
        },
        {
          "name": "stdout",
          "output_type": "stream",
          "text": [
            "69/69 [==============================] - 2s 16ms/step\n",
            "Training ke- 3\n",
            "              precision    recall  f1-score   support\n",
            "\n",
            "           0       0.82      0.83      0.83       685\n",
            "           1       0.80      0.82      0.81       233\n",
            "           2       0.91      0.90      0.91      1282\n",
            "\n",
            "    accuracy                           0.87      2200\n",
            "   macro avg       0.85      0.85      0.85      2200\n",
            "weighted avg       0.87      0.87      0.87      2200\n",
            "\n",
            "======================================================\n"
          ]
        },
        {
          "name": "stderr",
          "output_type": "stream",
          "text": [
            "/usr/local/lib/python3.7/dist-packages/keras/optimizers/optimizer_v2/adam.py:110: UserWarning: The `lr` argument is deprecated, use `learning_rate` instead.\n",
            "  super(Adam, self).__init__(name, **kwargs)\n"
          ]
        },
        {
          "name": "stdout",
          "output_type": "stream",
          "text": [
            "69/69 [==============================] - 2s 17ms/step\n",
            "Training ke- 4\n",
            "              precision    recall  f1-score   support\n",
            "\n",
            "           0       0.79      0.87      0.83       685\n",
            "           1       0.80      0.80      0.80       233\n",
            "           2       0.93      0.88      0.90      1282\n",
            "\n",
            "    accuracy                           0.87      2200\n",
            "   macro avg       0.84      0.85      0.84      2200\n",
            "weighted avg       0.87      0.87      0.87      2200\n",
            "\n",
            "======================================================\n"
          ]
        },
        {
          "name": "stderr",
          "output_type": "stream",
          "text": [
            "/usr/local/lib/python3.7/dist-packages/keras/optimizers/optimizer_v2/adam.py:110: UserWarning: The `lr` argument is deprecated, use `learning_rate` instead.\n",
            "  super(Adam, self).__init__(name, **kwargs)\n"
          ]
        },
        {
          "name": "stdout",
          "output_type": "stream",
          "text": [
            "69/69 [==============================] - 2s 16ms/step\n",
            "Training ke- 5\n",
            "              precision    recall  f1-score   support\n",
            "\n",
            "           0       0.85      0.81      0.83       685\n",
            "           1       0.81      0.80      0.81       233\n",
            "           2       0.90      0.93      0.91      1282\n",
            "\n",
            "    accuracy                           0.88      2200\n",
            "   macro avg       0.86      0.85      0.85      2200\n",
            "weighted avg       0.88      0.88      0.88      2200\n",
            "\n",
            "======================================================\n",
            "\n",
            "\n",
            "\n",
            "Rata-rata Accuracy:  0.8731818181818183\n"
          ]
        }
      ],
      "source": [
        "# Untuk lebih menyakinkan lagi, kita juga bisa melakukan \"Cross Validation\"\n",
        "import numpy as np\n",
        "from sklearn.metrics import classification_report\n",
        "from sklearn.metrics import accuracy_score\n",
        "from sklearn.model_selection import KFold\n",
        "\n",
        "kf = KFold(n_splits=5,random_state=42,shuffle=True)\n",
        "\n",
        "accuracies = []\n",
        "\n",
        "y = Y\n",
        "\n",
        "embed_dim = 100\n",
        "units = 64\n",
        "\n",
        "for iteration, data in enumerate(kf.split(X), start=1):\n",
        "\n",
        "    data_train   = X[data[0]]\n",
        "    target_train = y[data[0]]\n",
        "\n",
        "    data_test    = X[data[1]]\n",
        "    target_test  = y[data[1]]\n",
        "\n",
        "\n",
        "    model = Sequential()\n",
        "    model.add(Embedding(max_features, embed_dim, input_length=X.shape[1]))\n",
        "    model.add(LSTM(units, dropout=0.2))\n",
        "    model.add(Dense(3,activation='softmax'))\n",
        "    model.compile(loss = 'binary_crossentropy', optimizer='adam',metrics = ['accuracy'])\n",
        "\n",
        "    adam = optimizers.Adam(lr = 0.001)\n",
        "    model.compile(loss = 'categorical_crossentropy', optimizer = adam, metrics = ['accuracy'])\n",
        "\n",
        "    history = model.fit(X_train, y_train, epochs=10, batch_size=10, validation_data=(X_test, y_test), verbose=0, callbacks=[es])\n",
        "\n",
        "    predictions = model.predict(X_test)\n",
        "    y_pred = predictions\n",
        "\n",
        "    # for the current fold only    \n",
        "    accuracy = accuracy_score(y_test.argmax(axis=1), y_pred.argmax(axis=1))\n",
        "\n",
        "    print(\"Training ke-\", iteration)\n",
        "    print(classification_report(y_test.argmax(axis=1), y_pred.argmax(axis=1)))\n",
        "    print(\"======================================================\")\n",
        "\n",
        "    accuracies.append(accuracy)\n",
        "\n",
        "# this is the average accuracy over all folds\n",
        "average_accuracy = np.mean(accuracies)\n",
        "\n",
        "print()\n",
        "print()\n",
        "print()\n",
        "print(\"Rata-rata Accuracy: \", average_accuracy)"
      ]
    },
    {
      "cell_type": "code",
      "execution_count": null,
      "metadata": {
        "colab": {
          "base_uri": "https://localhost:8080/",
          "height": 337
        },
        "id": "GPnF37CowFwp",
        "outputId": "4c7d3914-0e5e-4c45-ab23-b00a2b7afee7"
      },
      "outputs": [
        {
          "data": {
            "image/png": "[encoded data removed]",
            "text/plain": [
              "<Figure size 864x360 with 2 Axes>"
            ]
          },
          "metadata": {
            "needs_background": "light"
          },
          "output_type": "display_data"
        }
      ],
      "source": [
        "# history.history\n",
        "import matplotlib.pyplot as plt\n",
        "plt.style.use('ggplot')\n",
        "\n",
        "def plot_history(history):\n",
        "    acc = history.history['accuracy']\n",
        "    val_acc = history.history['val_accuracy']\n",
        "    loss = history.history['loss']\n",
        "    val_loss = history.history['val_loss']\n",
        "    x = range(1, len(acc) + 1)\n",
        "\n",
        "    plt.figure(figsize=(12, 5))\n",
        "    plt.subplot(1, 2, 1)\n",
        "    plt.plot(x, acc, 'b', label='Training acc')\n",
        "    plt.plot(x, val_acc, 'r', label='Validation acc')\n",
        "    plt.title('Training and validation accuracy')\n",
        "    plt.legend()\n",
        "    plt.subplot(1, 2, 2)\n",
        "    plt.plot(x, loss, 'b', label='Training loss')\n",
        "    plt.plot(x, val_loss, 'r', label='Validation loss')\n",
        "    plt.title('Training and validation loss')\n",
        "    plt.legend()\n",
        "\n",
        "%matplotlib inline\n",
        "plot_history(history)"
      ]
    },
    {
      "cell_type": "code",
      "execution_count": null,
      "metadata": {
        "colab": {
          "base_uri": "https://localhost:8080/"
        },
        "id": "AKq4dsOL0TQa",
        "outputId": "fd822ae7-d0c3-4489-cb60-b3c5e2a15c1e"
      },
      "outputs": [
        {
          "name": "stdout",
          "output_type": "stream",
          "text": [
            "Model has created!\n"
          ]
        }
      ],
      "source": [
        "model.save('model.h5')\n",
        "print(\"Model has created!\")"
      ]
    },
    {
      "cell_type": "markdown",
      "metadata": {
        "id": "xkgZGsU50veT"
      },
      "source": [
        "## **Predict**"
      ]
    },
    {
      "cell_type": "code",
      "execution_count": null,
      "metadata": {
        "colab": {
          "base_uri": "https://localhost:8080/"
        },
        "id": "Pq92YO8f0srt",
        "outputId": "e3e6e52e-66f7-43d4-816c-0015d6a2a996"
      },
      "outputs": [
        {
          "name": "stdout",
          "output_type": "stream",
          "text": [
            "1/1 [==============================] - 0s 461ms/step\n",
            "Text:   rasa syukur  cukup  \n",
            "Sentiment:  positive\n"
          ]
        }
      ],
      "source": [
        "import re \n",
        "from keras.models import load_model\n",
        "\n",
        "input_text = \"\"\"\n",
        "Rasa syukur, cukup.\n",
        "\"\"\"\n",
        "\n",
        "def cleansing(sent):\n",
        "    # Mengubah kata menjadi huruf kecil semua dengan menggunakan fungsi lower()\n",
        "    string = sent.lower()\n",
        "    # Menghapus emoticon dan tanda baca menggunakan \"RegEx\" dengan script di bawah\n",
        "    string = re.sub(r'[^a-zA-Z0-9]', ' ', string)\n",
        "    return string\n",
        "\n",
        "def lowercase(string):\n",
        "    return string.lower() \n",
        "\n",
        "def remove_unnecessary_char(string):\n",
        "    string = re.sub('\\n',' ',string) # Remove every '\\n'\n",
        "    string = re.sub('rt',' ',string) # Remove every retweet symbol\n",
        "    string = re.sub('user',' ',string) # Remove every username\n",
        "    string = re.sub('((www\\.[^\\s]+)|(https?://[^\\s]+)|(http?://[^\\s]+))',' ',string) # Remove every URL\n",
        "    string = re.sub('  +', ' ', string) # Remove extra spaces\n",
        "    string = re.sub(r'pic.twitter.com.[\\w]+', '', string) # Remove every pic \n",
        "    string = re.sub('gue','saya',string) # replace gue - saya\n",
        "    string = re.sub(r':', '', string) #Remove symbol \n",
        "    string = re.sub(r'‚Ä¶', '', string) #Remove symbol Ä¶\n",
        "    return string   \n",
        "\n",
        "sentiment = ['negative', 'neutral', 'positive']\n",
        "\n",
        "text = [cleansing(input_text)]\n",
        "predicted = tokenizer.texts_to_sequences(text)\n",
        "guess = pad_sequences(predicted, maxlen=X.shape[1])\n",
        "\n",
        "model = load_model('model.h5')\n",
        "prediction = model.predict(guess)\n",
        "polarity = np.argmax(prediction[0])\n",
        "\n",
        "print(\"Text: \",text[0])\n",
        "print(\"Sentiment: \",sentiment[polarity])"
      ]
    },
    {
      "cell_type": "code",
      "execution_count": null,
      "metadata": {
        "colab": {
          "base_uri": "https://localhost:8080/"
        },
        "id": "sT97Oyb405n2",
        "outputId": "7af6ca4e-e7a3-443c-af8d-e094e2de25a3"
      },
      "outputs": [
        {
          "name": "stdout",
          "output_type": "stream",
          "text": [
            "1/1 [==============================] - 0s 427ms/step\n",
            "Text:   dasar anak anjing gatau diri  \n",
            "Sentiment:  negative\n"
          ]
        }
      ],
      "source": [
        "input_text = \"\"\"\n",
        "dasar anak anjing gatau diri.\n",
        "\"\"\"\n",
        "\n",
        "def cleansing(sent):\n",
        "    # Mengubah kata menjadi huruf kecil semua dengan menggunakan fungsi lower()\n",
        "    string = sent.lower()\n",
        "    # Menghapus emoticon dan tanda baca menggunakan \"RegEx\" dengan script di bawah\n",
        "    string = re.sub(r'[^a-zA-Z0-9]', ' ', string)\n",
        "    return string\n",
        "\n",
        "def lowercase(string):\n",
        "    return string.lower() \n",
        "\n",
        "def remove_unnecessary_char(string):\n",
        "    string = re.sub('\\n',' ',string) # Remove every '\\n'\n",
        "    string = re.sub('rt',' ',string) # Remove every retweet symbol\n",
        "    string = re.sub('user',' ',string) # Remove every username\n",
        "    string = re.sub('((www\\.[^\\s]+)|(https?://[^\\s]+)|(http?://[^\\s]+))',' ',string) # Remove every URL\n",
        "    string = re.sub('  +', ' ', string) # Remove extra spaces\n",
        "    string = re.sub(r'pic.twitter.com.[\\w]+', '', string) # Remove every pic \n",
        "    string = re.sub('gue','saya',string) # replace gue - saya\n",
        "    string = re.sub(r':', '', string) #Remove symbol \n",
        "    string = re.sub(r'‚Ä¶', '', string) #Remove symbol Ä¶\n",
        "    return string   \n",
        "\n",
        "sentiment = ['negative', 'neutral', 'positive']\n",
        "\n",
        "text = [cleansing(input_text)]\n",
        "predicted = tokenizer.texts_to_sequences(text)\n",
        "guess = pad_sequences(predicted, maxlen=X.shape[1])\n",
        "\n",
        "model = load_model('model.h5')\n",
        "prediction = model.predict(guess)\n",
        "polarity = np.argmax(prediction[0])\n",
        "\n",
        "print(\"Text: \",text[0])\n",
        "print(\"Sentiment: \",sentiment[polarity])"
      ]
    },
    {
      "cell_type": "code",
      "execution_count": null,
      "metadata": {
        "colab": {
          "base_uri": "https://localhost:8080/"
        },
        "id": "-zEw4AUg1BTV",
        "outputId": "b35c09b4-e70f-4943-d870-b441c8a53956"
      },
      "outputs": [
        {
          "name": "stdout",
          "output_type": "stream",
          "text": [
            "1/1 [==============================] - 2s 2s/step\n",
            "Text:   suatu hari saya ingin bermain bola  \n",
            "Sentiment:  neutral\n"
          ]
        }
      ],
      "source": [
        "input_text = \"\"\"\n",
        "suatu hari saya ingin bermain bola.\n",
        "\"\"\"\n",
        "\n",
        "def cleansing(sent):\n",
        "    # Mengubah kata menjadi huruf kecil semua dengan menggunakan fungsi lower()\n",
        "    string = sent.lower()\n",
        "    # Menghapus emoticon dan tanda baca menggunakan \"RegEx\" dengan script di bawah\n",
        "    string = re.sub(r'[^a-zA-Z0-9]', ' ', string)\n",
        "    return string\n",
        "\n",
        "def lowercase(string):\n",
        "    return string.lower() \n",
        "\n",
        "def remove_unnecessary_char(string):\n",
        "    string = re.sub('\\n',' ',string) # Remove every '\\n'\n",
        "    string = re.sub('rt',' ',string) # Remove every retweet symbol\n",
        "    string = re.sub('user',' ',string) # Remove every username\n",
        "    string = re.sub('((www\\.[^\\s]+)|(https?://[^\\s]+)|(http?://[^\\s]+))',' ',string) # Remove every URL\n",
        "    string = re.sub('  +', ' ', string) # Remove extra spaces\n",
        "    string = re.sub(r'pic.twitter.com.[\\w]+', '', string) # Remove every pic \n",
        "    string = re.sub('gue','saya',string) # replace gue - saya\n",
        "    string = re.sub(r':', '', string) #Remove symbol \n",
        "    string = re.sub(r'‚Ä¶', '', string) #Remove symbol Ä¶\n",
        "    return string   \n",
        "\n",
        "sentiment = ['negative', 'neutral', 'positive']\n",
        "\n",
        "text = [cleansing(input_text)]\n",
        "predicted = tokenizer.texts_to_sequences(text)\n",
        "guess = pad_sequences(predicted, maxlen=X.shape[1])\n",
        "\n",
        "model = load_model('model.h5')\n",
        "prediction = model.predict(guess)\n",
        "polarity = np.argmax(prediction[0])\n",
        "\n",
        "print(\"Text: \",text[0])\n",
        "print(\"Sentiment: \",sentiment[polarity])"
      ]
    },
    {
      "cell_type": "code",
      "execution_count": null,
      "metadata": {
        "id": "W69JbgVv1IjW"
      },
      "outputs": [],
      "source": []
    }
  ],
  "metadata": {
    "colab": {
      "provenance": []
    },
    "kernelspec": {
      "display_name": "Python 2022.5.x ('base')",
      "language": "python",
      "name": "python3"
    },
    "language_info": {
      "codemirror_mode": {
        "name": "ipython",
        "version": 3
      },
      "file_extension": ".py",
      "mimetype": "text/x-python",
      "name": "python",
      "nbconvert_exporter": "python",
      "pygments_lexer": "ipython3",
      "version": "3.9.12"
    },
    "vscode": {
      "interpreter": {
        "hash": "5179d32cf6ec497baf3f8a3ef987cc77c5d2dc691fdde20a56316522f61a7323"
      }
    }
  },
  "nbformat": 4,
  "nbformat_minor": 0
}
